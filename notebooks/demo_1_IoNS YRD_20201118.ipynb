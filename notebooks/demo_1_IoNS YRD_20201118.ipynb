{
 "cells": [
  {
   "cell_type": "markdown",
   "metadata": {},
   "source": [
    "# CPP BIDS: quick demo 1"
   ]
  },
  {
   "cell_type": "code",
   "execution_count": 35,
   "metadata": {},
   "outputs": [],
   "source": [
    "% add the relevant functions from the source and library folder\n",
    "addpath(genpath(fullfile(pwd, '..', 'src')))\n",
    "addpath(genpath(fullfile(pwd, '..', 'lib')))"
   ]
  },
  {
   "cell_type": "markdown",
   "metadata": {},
   "source": [
    "# Simplest case: behavioral experiment"
   ]
  },
  {
   "cell_type": "markdown",
   "metadata": {},
   "source": [
    "### Set up"
   ]
  },
  {
   "cell_type": "code",
   "execution_count": 36,
   "metadata": {
    "scrolled": true
   },
   "outputs": [],
   "source": [
    "% clean up\n",
    "clear cfg logFile\n",
    "rmdir(fullfile(pwd, 'new_experiment'), 's');\n",
    "\n",
    "% Define where to save things, subject and run number, task name\n",
    "cfg.dir.output = fullfile(pwd, 'new_experiment');   \n",
    "\n",
    "cfg.subject.subjectNb = 1;\n",
    "cfg.subject.runNb = 1;\n",
    "\n",
    "cfg.task.name = 'test task';\n",
    "\n",
    "% to print some output to the prompt\n",
    "cfg.verbose = 1;\n"
   ]
  },
  {
   "cell_type": "markdown",
   "metadata": {},
   "source": [
    "### Initialize the output files"
   ]
  },
  {
   "cell_type": "code",
   "execution_count": 37,
   "metadata": {},
   "outputs": [
    {
     "name": "stdout",
     "output_type": "stream",
     "text": [
      "\n",
      "Data will be saved in this directory:\n",
      "\t/home/remi/github/CPP_BIDS/notebooks/new_experiment/source/sub-001/ses-001/beh\n",
      "\n",
      "Data will be saved in this file:\n",
      "\tsub-001_ses-001_task-testTask_run-001_events_date-202011171630.tsv\n",
      "onset\tduration\ttrial_type\n"
     ]
    }
   ],
   "source": [
    "cfg = createFilename(cfg);\n",
    "logFile = saveEventsFile('init', cfg);\n",
    "logFile = saveEventsFile('open', cfg, logFile);"
   ]
  },
  {
   "cell_type": "markdown",
   "metadata": {},
   "source": [
    "### Add content to the outpute file\n",
    "\n",
    "Append content to `logFile` and then save it."
   ]
  },
  {
   "cell_type": "code",
   "execution_count": 38,
   "metadata": {},
   "outputs": [
    {
     "name": "stdout",
     "output_type": "stream",
     "text": [
      "2.000000\t0.250000\ttarget\t\r\n",
      "5.000000\t0.360000\tno_target\t\r\n"
     ]
    }
   ],
   "source": [
    "logFile(1, 1).onset = 2;\n",
    "logFile(1, 1).trial_type = 'target';\n",
    "logFile(1, 1).duration = 0.25;\n",
    "\n",
    "logFile(2, 1).onset = 5;\n",
    "logFile(2, 1).trial_type = 'no_target';\n",
    "logFile(2, 1).duration = 0.36;\n",
    "\n",
    "logFile = saveEventsFile('save', cfg, logFile);\n"
   ]
  },
  {
   "cell_type": "code",
   "execution_count": 39,
   "metadata": {},
   "outputs": [
    {
     "name": "stdout",
     "output_type": "stream",
     "text": [
      "\r\n",
      "Data were saved in this file:\r\n",
      "\r\n",
      "/home/remi/github/CPP_BIDS/notebooks/new_experiment/source/sub-001/ses-001/beh/sub-001_ses-001_task-testTask_run-001_events_date-202011171630.tsv\r\n",
      "\r\n"
     ]
    }
   ],
   "source": [
    "% close the file\n",
    "saveEventsFile('close', cfg, logFile);"
   ]
  },
  {
   "cell_type": "markdown",
   "metadata": {},
   "source": [
    "### check the output"
   ]
  },
  {
   "cell_type": "code",
   "execution_count": 40,
   "metadata": {
    "scrolled": true
   },
   "outputs": [
    {
     "name": "stdout",
     "output_type": "stream",
     "text": [
      "\u001b[01;34mnew_experiment\u001b[00m\r\n",
      "└── \u001b[01;34msource\u001b[00m\r\n",
      "    └── \u001b[01;34msub-001\u001b[00m\r\n",
      "        └── \u001b[01;34mses-001\u001b[00m\r\n",
      "            └── \u001b[01;34mbeh\u001b[00m\r\n",
      "                ├── sub-001_ses-001_task-testTask_run-001_events_date-202011171630.json\r\n",
      "                └── sub-001_ses-001_task-testTask_run-001_events_date-202011171630.tsv\r\n",
      "\r\n",
      "4 directories, 2 files\r\n",
      "\n"
     ]
    }
   ],
   "source": [
    "!tree new_experiment"
   ]
  },
  {
   "cell_type": "code",
   "execution_count": 41,
   "metadata": {},
   "outputs": [
    {
     "name": "stdout",
     "output_type": "stream",
     "text": [
      "onset\tduration\ttrial_type\r\n",
      "2.000000\t0.250000\ttarget\t\r\n",
      "5.000000\t0.360000\tno_target\t\r\n",
      "\n"
     ]
    }
   ],
   "source": [
    "!cat new_experiment/source/sub-001/ses-001/beh/sub-001_ses-001_task-testTask_run-001_events_date-*.tsv"
   ]
  },
  {
   "cell_type": "code",
   "execution_count": 34,
   "metadata": {},
   "outputs": [
    {
     "name": "stdout",
     "output_type": "stream",
     "text": [
      "{\r\n",
      "    \"onset\": {\r\n",
      "        \"Description\": \"time elapsed since experiment start\",\r\n",
      "        \"Units\": \"s\"\r\n",
      "    },\r\n",
      "    \"trial_type\": {\r\n",
      "        \"Description\": \"types of trial\",\r\n",
      "        \"Levels\": \"\"\r\n",
      "    },\r\n",
      "    \"duration\": {\r\n",
      "        \"Description\": \"duration of the event or the block\",\r\n",
      "        \"Units\": \"s\"\r\n",
      "    }\r\n",
      "}\n"
     ]
    }
   ],
   "source": [
    "!cat new_experiment/source/sub-001/ses-001/beh/sub-001_ses-001_task-testTask_run-001_events_date-*.json"
   ]
  }
 ],
 "metadata": {
  "kernelspec": {
   "display_name": "Octave",
   "language": "octave",
   "name": "octave"
  },
  "language_info": {
   "file_extension": ".m",
   "help_links": [
    {
     "text": "GNU Octave",
     "url": "https://www.gnu.org/software/octave/support.html"
    },
    {
     "text": "Octave Kernel",
     "url": "https://github.com/Calysto/octave_kernel"
    },
    {
     "text": "MetaKernel Magics",
     "url": "https://metakernel.readthedocs.io/en/latest/source/README.html"
    }
   ],
   "mimetype": "text/x-octave",
   "name": "octave",
   "version": "4.2.2"
  }
 },
 "nbformat": 4,
 "nbformat_minor": 4
}
