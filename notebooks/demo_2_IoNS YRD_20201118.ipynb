{
 "cells": [
  {
   "cell_type": "markdown",
   "metadata": {},
   "source": [
    "# CPP BIDS: quick demo 2"
   ]
  },
  {
   "cell_type": "code",
   "execution_count": 107,
   "metadata": {},
   "outputs": [],
   "source": [
    "% add the relevant functions from the source and library folder\n",
    "addpath(genpath(fullfile(pwd, '..', 'src')))\n",
    "addpath(genpath(fullfile(pwd, '..', 'lib')))"
   ]
  },
  {
   "cell_type": "markdown",
   "metadata": {},
   "source": [
    "# fMRI experiment with eyetracking"
   ]
  },
  {
   "cell_type": "markdown",
   "metadata": {},
   "source": [
    "## Set up"
   ]
  },
  {
   "cell_type": "code",
   "execution_count": 108,
   "metadata": {
    "scrolled": true
   },
   "outputs": [],
   "source": [
    "% clean up\n",
    "clear cfg logFile\n",
    "\n",
    "% Define where to save things, subject and run number, task name\n",
    "cfg.dir.output = fullfile(pwd, 'new_experiment');    \n",
    "\n",
    "cfg.subject.subjectNb = 1;\n",
    "cfg.subject.runNb = 1;\n",
    "\n",
    "cfg.task.name = 'test task';\n",
    "\n",
    "cfg.testingDevice = 'mri';\n",
    "\n",
    "cfg.eyeTracker.do = 1;\n",
    "\n",
    "% to print some output to the prompt\n",
    "cfg.verbose = 1;\n"
   ]
  },
  {
   "cell_type": "markdown",
   "metadata": {},
   "source": [
    "## Additional details about the experiment "
   ]
  },
  {
   "cell_type": "code",
   "execution_count": 109,
   "metadata": {},
   "outputs": [],
   "source": [
    "% other information to save in the TSV file\n",
    "logFile.extraColumns = {'target_position', 'target_type'};\n",
    "\n",
    "% Time between events in seconds\n",
    "parameters.timing.ISI = 0.1;\n",
    "\n",
    "% Number of seconds before the stimuli are presented\n",
    "parameters.timing.onsetDelay = .1;\n",
    "\n",
    "% Event duration\n",
    "parameters.timing.eventDuration = 0.8;\n"
   ]
  },
  {
   "cell_type": "markdown",
   "metadata": {},
   "source": [
    "## fMRI details"
   ]
  },
  {
   "cell_type": "code",
   "execution_count": 110,
   "metadata": {},
   "outputs": [],
   "source": [
    "cfg.mri.repetitionTime = 2.1;\n",
    "\n",
    "cfg.suffix.phaseEncodingDirection = 'AP';\n",
    "cfg.suffix.reconstruction = 'MoCo';\n"
   ]
  },
  {
   "cell_type": "markdown",
   "metadata": {},
   "source": [
    "## Initialize the output files"
   ]
  },
  {
   "cell_type": "code",
   "execution_count": 111,
   "metadata": {},
   "outputs": [
    {
     "name": "stdout",
     "output_type": "stream",
     "text": [
      "\n",
      "Data will be saved in this directory:\n",
      "\t/home/remi/github/CPP_BIDS/notebooks/new_experiment/source/sub-001/ses-001/func\n",
      "\n",
      "Data will be saved in this file:\n",
      "\tsub-001_ses-001_task-testTask_dir-AP_rec-MoCo_run-001_events_date-202011171630.tsv\n",
      "\n",
      "Eyetracking data will be saved in this directory:\n",
      "\t/home/remi/github/CPP_BIDS/notebooks/new_experiment/source/sub-001/ses-001/eyetracker\n",
      "\n",
      "Eyetracking data will be saved in this file:\n",
      "\tsub-001_ses-001_task-testTask_dir-AP_rec-MoCo_run-001_recording-eyetracking_physio_date-202011171630.edf\n",
      "onset\tduration\ttrial_type\ttarget_position\ttarget_type\n"
     ]
    }
   ],
   "source": [
    "cfg = createFilename(cfg);\n",
    "\n",
    "logFile = saveEventsFile('init', cfg, logFile);\n",
    "logFile = saveEventsFile('open', cfg, logFile);"
   ]
  },
  {
   "cell_type": "markdown",
   "metadata": {},
   "source": [
    "## Save metadata"
   ]
  },
  {
   "cell_type": "code",
   "execution_count": 112,
   "metadata": {},
   "outputs": [],
   "source": [
    "createJson(cfg, 'func', parameters)"
   ]
  },
  {
   "cell_type": "code",
   "execution_count": 113,
   "metadata": {},
   "outputs": [
    {
     "name": "stdout",
     "output_type": "stream",
     "text": [
      "\u001b[01;34mnew_experiment\u001b[00m\r\n",
      "└── \u001b[01;34msource\u001b[00m\r\n",
      "    └── \u001b[01;34msub-001\u001b[00m\r\n",
      "        └── \u001b[01;34mses-001\u001b[00m\r\n",
      "            ├── \u001b[01;34mbeh\u001b[00m\r\n",
      "            │   ├── sub-001_ses-001_task-testTask_run-001_events_date-202011171630.json\r\n",
      "            │   └── sub-001_ses-001_task-testTask_run-001_events_date-202011171630.tsv\r\n",
      "            └── \u001b[01;34mfunc\u001b[00m\r\n",
      "                ├── sub-001_ses-001_task-testTask_dir-AP_rec-MoCo_run-001_bold_date-202011171630.json\r\n",
      "                ├── sub-001_ses-001_task-testTask_dir-AP_rec-MoCo_run-001_events_date-202011171630.json\r\n",
      "                └── sub-001_ses-001_task-testTask_dir-AP_rec-MoCo_run-001_events_date-202011171630.tsv\r\n",
      "\r\n",
      "5 directories, 5 files\r\n",
      "\n"
     ]
    }
   ],
   "source": [
    "!tree new_experiment"
   ]
  },
  {
   "cell_type": "markdown",
   "metadata": {},
   "source": [
    "## Add content to the outpute file"
   ]
  },
  {
   "cell_type": "code",
   "execution_count": 114,
   "metadata": {},
   "outputs": [
    {
     "name": "stdout",
     "output_type": "stream",
     "text": [
      "2.000000\t1.000000\tmotion_up\tleft\taudio\t\r\n",
      "6.000000\t1.200000\tstatic\tright\tvisual\t\r\n"
     ]
    }
   ],
   "source": [
    "logFile(1,1).onset = 2;\n",
    "logFile(1,1).trial_type = 'motion_up';\n",
    "logFile(1,1).duration = 1;\n",
    "logFile(1,1).target_position = 'left';\n",
    "logFile(1,1).target_type = 'audio';\n",
    "\n",
    "logFile(2,1).onset = 6;\n",
    "logFile(2,1).trial_type = 'static';\n",
    "logFile(2,1).duration = 1.2;\n",
    "logFile(2,1).target_position = 'right';\n",
    "logFile(2,1).target_type = 'visual';\n",
    "\n",
    "logFile = saveEventsFile('save', cfg, logFile);"
   ]
  },
  {
   "cell_type": "code",
   "execution_count": 115,
   "metadata": {},
   "outputs": [
    {
     "name": "stdout",
     "output_type": "stream",
     "text": [
      "\r\n",
      "Data were saved in this file:\r\n",
      "\r\n",
      "/home/remi/github/CPP_BIDS/notebooks/new_experiment/source/sub-001/ses-001/func/sub-001_ses-001_task-testTask_dir-AP_rec-MoCo_run-001_events_date-202011171630.tsv\r\n",
      "\r\n"
     ]
    }
   ],
   "source": [
    "% close the file\n",
    "saveEventsFile('close', cfg, logFile);"
   ]
  },
  {
   "cell_type": "markdown",
   "metadata": {},
   "source": [
    "## Content of the `events.tsv` file"
   ]
  },
  {
   "cell_type": "code",
   "execution_count": 116,
   "metadata": {
    "scrolled": true
   },
   "outputs": [
    {
     "name": "stdout",
     "output_type": "stream",
     "text": [
      "onset\tduration\ttrial_type\ttarget_position\ttarget_type\r\n",
      "2.000000\t1.000000\tmotion_up\tleft\taudio\t\r\n",
      "6.000000\t1.200000\tstatic\tright\tvisual\t\r\n",
      "\n"
     ]
    }
   ],
   "source": [
    "!cat new_experiment/source/sub-001/ses-001/func/sub-001_ses-001_task-*events*.tsv"
   ]
  },
  {
   "cell_type": "markdown",
   "metadata": {},
   "source": [
    "## Content of the data dictionary `events.json` file"
   ]
  },
  {
   "cell_type": "code",
   "execution_count": 117,
   "metadata": {},
   "outputs": [
    {
     "name": "stdout",
     "output_type": "stream",
     "text": [
      "{\r\n",
      "    \"onset\": {\r\n",
      "        \"Description\": \"time elapsed since experiment start\",\r\n",
      "        \"Units\": \"s\"\r\n",
      "    },\r\n",
      "    \"trial_type\": {\r\n",
      "        \"Description\": \"types of trial\",\r\n",
      "        \"Levels\": \"\"\r\n",
      "    },\r\n",
      "    \"duration\": {\r\n",
      "        \"Description\": \"duration of the event or the block\",\r\n",
      "        \"Units\": \"s\"\r\n",
      "    },\r\n",
      "    \"target_position\": {\r\n",
      "        \"Description\": \"\",\r\n",
      "        \"Levels\": \"\",\r\n",
      "        \"LongName\": \"\",\r\n",
      "        \"TermURL\": \"\",\r\n",
      "        \"Units\": \"\"\r\n",
      "    },\r\n",
      "    \"target_type\": {\r\n",
      "        \"Description\": \"\",\r\n",
      "        \"Levels\": \"\",\r\n",
      "        \"LongName\": \"\",\r\n",
      "        \"TermURL\": \"\",\r\n",
      "        \"Units\": \"\"\r\n",
      "    }\r\n",
      "}\n"
     ]
    }
   ],
   "source": [
    "!cat new_experiment/source/sub-001/ses-001/func/sub-001_ses-001_task-*events*.json"
   ]
  },
  {
   "cell_type": "markdown",
   "metadata": {},
   "source": [
    "## Content of the metadata `bold.json` file"
   ]
  },
  {
   "cell_type": "code",
   "execution_count": 118,
   "metadata": {
    "scrolled": true
   },
   "outputs": [
    {
     "name": "stdout",
     "output_type": "stream",
     "text": [
      "{\r\n",
      "    \"Instructions\": \"\",\r\n",
      "    \"RepetitionTime\": 2.1,\r\n",
      "    \"SliceTiming\": [],\r\n",
      "    \"TaskDescription\": \"\",\r\n",
      "    \"TaskName\": \"test Task\",\r\n",
      "    \"timing\": {\r\n",
      "        \"ISI\": 0.1,\r\n",
      "        \"onsetDelay\": 0.1,\r\n",
      "        \"eventDuration\": 0.8\r\n",
      "    }\r\n",
      "}\n"
     ]
    }
   ],
   "source": [
    "!cat new_experiment/source/sub-001/ses-001/func/sub-001_ses-001_task-*bold*.json"
   ]
  },
  {
   "cell_type": "markdown",
   "metadata": {},
   "source": [
    "# Convert to a BIDS dataset"
   ]
  },
  {
   "cell_type": "markdown",
   "metadata": {},
   "source": [
    "## Create a dataset description"
   ]
  },
  {
   "cell_type": "code",
   "execution_count": 119,
   "metadata": {
    "scrolled": true
   },
   "outputs": [
    {
     "name": "stdout",
     "output_type": "stream",
     "text": [
      "\r\n",
      "Data will be saved in this directory:\r\n",
      "\t/home/remi/github/CPP_BIDS/notebooks/new_experiment/source/sub-001/ses-001/func\r\n",
      "\r\n",
      "Data will be saved in this file:\r\n",
      "\tsub-001_ses-001_task-testTask_dir-AP_rec-MoCo_run-001_events_date-202011171630.tsv\r\n",
      "\r\n",
      "Eyetracking data will be saved in this directory:\r\n",
      "\t/home/remi/github/CPP_BIDS/notebooks/new_experiment/source/sub-001/ses-001/eyetracker\r\n",
      "\r\n",
      "Eyetracking data will be saved in this file:\r\n",
      "\tsub-001_ses-001_task-testTask_dir-AP_rec-MoCo_run-001_recording-eyetracking_physio_date-202011171630.edf\r\n"
     ]
    }
   ],
   "source": [
    "cfg.bids.datasetDescription.Name = 'A new BIDS dataset';\n",
    "cfg.bids.datasetDescription.BIDSVersion =  '1.3';\n",
    "cfg.bids.datasetDescription.License = 'CC-BY';\n",
    "cfg.bids.datasetDescription.Authors = {'IONS YRD 2020'};\n",
    "cfg.bids.datasetDescription.Acknowledgements = '';\n",
    "cfg.bids.datasetDescription.HowToAcknowledge = '';\n",
    "cfg.bids.datasetDescription.Funding = {''};\n",
    "cfg.bids.datasetDescription.ReferencesAndLinks = {''};\n",
    "cfg.bids.datasetDescription.DatasetDOI = '';\n",
    "\n",
    "[cfg] = createFilename(cfg);\n",
    "createDatasetDescription(cfg)"
   ]
  },
  {
   "cell_type": "code",
   "execution_count": 120,
   "metadata": {},
   "outputs": [],
   "source": [
    "convertSourceToRaw(cfg)"
   ]
  },
  {
   "cell_type": "code",
   "execution_count": 121,
   "metadata": {},
   "outputs": [
    {
     "name": "stdout",
     "output_type": "stream",
     "text": [
      "\u001b[01;34mnew_experiment\u001b[00m\r\n",
      "├── \u001b[01;34mraw\u001b[00m\r\n",
      "│   ├── CHANGES\r\n",
      "│   ├── dataset_description.json\r\n",
      "│   ├── README\r\n",
      "│   └── \u001b[01;34msub-001\u001b[00m\r\n",
      "│       └── \u001b[01;34mses-001\u001b[00m\r\n",
      "│           ├── \u001b[01;34mbeh\u001b[00m\r\n",
      "│           │   ├── sub-001_ses-001_task-testTask_run-001_events.json\r\n",
      "│           │   └── sub-001_ses-001_task-testTask_run-001_events.tsv\r\n",
      "│           └── \u001b[01;34mfunc\u001b[00m\r\n",
      "│               ├── sub-001_ses-001_task-testTask_dir-AP_rec-MoCo_run-001_bold.json\r\n",
      "│               ├── sub-001_ses-001_task-testTask_dir-AP_rec-MoCo_run-001_events.json\r\n",
      "│               └── sub-001_ses-001_task-testTask_dir-AP_rec-MoCo_run-001_events.tsv\r\n",
      "└── \u001b[01;34msource\u001b[00m\r\n",
      "    ├── CHANGES\r\n",
      "    ├── dataset_description.json\r\n",
      "    ├── README\r\n",
      "    └── \u001b[01;34msub-001\u001b[00m\r\n",
      "        └── \u001b[01;34mses-001\u001b[00m\r\n",
      "            ├── \u001b[01;34mbeh\u001b[00m\r\n",
      "            │   ├── sub-001_ses-001_task-testTask_run-001_events_date-202011171630.json\r\n",
      "            │   └── sub-001_ses-001_task-testTask_run-001_events_date-202011171630.tsv\r\n",
      "            └── \u001b[01;34mfunc\u001b[00m\r\n",
      "                ├── sub-001_ses-001_task-testTask_dir-AP_rec-MoCo_run-001_bold_date-202011171630.json\r\n",
      "                ├── sub-001_ses-001_task-testTask_dir-AP_rec-MoCo_run-001_events_date-202011171630.json\r\n",
      "                └── sub-001_ses-001_task-testTask_dir-AP_rec-MoCo_run-001_events_date-202011171630.tsv\r\n",
      "\r\n",
      "10 directories, 16 files\r\n",
      "\n"
     ]
    }
   ],
   "source": [
    "!tree new_experiment"
   ]
  }
 ],
 "metadata": {
  "kernelspec": {
   "display_name": "Octave",
   "language": "octave",
   "name": "octave"
  },
  "language_info": {
   "file_extension": ".m",
   "help_links": [
    {
     "text": "GNU Octave",
     "url": "https://www.gnu.org/software/octave/support.html"
    },
    {
     "text": "Octave Kernel",
     "url": "https://github.com/Calysto/octave_kernel"
    },
    {
     "text": "MetaKernel Magics",
     "url": "https://metakernel.readthedocs.io/en/latest/source/README.html"
    }
   ],
   "mimetype": "text/x-octave",
   "name": "octave",
   "version": "4.2.2"
  }
 },
 "nbformat": 4,
 "nbformat_minor": 4
}
